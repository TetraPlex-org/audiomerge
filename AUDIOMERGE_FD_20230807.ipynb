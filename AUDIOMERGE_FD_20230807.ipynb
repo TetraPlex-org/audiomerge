{
  "nbformat": 4,
  "nbformat_minor": 0,
  "metadata": {
    "colab": {
      "provenance": [],
      "authorship_tag": "ABX9TyMRr2ER9ddezJMjQThprb36",
      "include_colab_link": true
    },
    "kernelspec": {
      "name": "python3",
      "display_name": "Python 3"
    },
    "language_info": {
      "name": "python"
    }
  },
  "cells": [
    {
      "cell_type": "markdown",
      "metadata": {
        "id": "view-in-github",
        "colab_type": "text"
      },
      "source": [
        "<a href=\"https://colab.research.google.com/github/TetraPlex-org/audiomerge/blob/main/AUDIOMERGE_FD_20230807.ipynb\" target=\"_parent\"><img src=\"https://colab.research.google.com/assets/colab-badge.svg\" alt=\"Open In Colab\"/></a>"
      ]
    },
    {
      "cell_type": "markdown",
      "source": [
        "Boilerplate"
      ],
      "metadata": {
        "id": "2n67BwRKOmhI"
      }
    },
    {
      "cell_type": "code",
      "source": [
        "!git clone https://github.com/TetraPlex-org/audiomerge.git"
      ],
      "metadata": {
        "colab": {
          "base_uri": "https://localhost:8080/"
        },
        "id": "SD3DedOJNv3Z",
        "outputId": "4e001eaa-67cf-4b3a-a3ab-ae589818802b"
      },
      "execution_count": 2,
      "outputs": [
        {
          "output_type": "stream",
          "name": "stdout",
          "text": [
            "Cloning into 'audiomerge'...\n",
            "remote: Enumerating objects: 24, done.\u001b[K\n",
            "remote: Counting objects: 100% (13/13), done.\u001b[K\n",
            "remote: Compressing objects: 100% (13/13), done.\u001b[K\n",
            "remote: Total 24 (delta 3), reused 6 (delta 0), pack-reused 11\u001b[K\n",
            "Receiving objects: 100% (24/24), 87.45 MiB | 22.98 MiB/s, done.\n",
            "Resolving deltas: 100% (3/3), done.\n"
          ]
        }
      ]
    },
    {
      "cell_type": "code",
      "source": [
        "from operator import getitem\n",
        "from pathlib import Path\n",
        "\n",
        "import numpy as np\n",
        "import pywt\n",
        "import pandas as pd\n",
        "from scipy import ndimage, stats, signal, integrate, interpolate\n",
        "from scipy.signal import stft\n",
        "from scipy.io import wavfile\n",
        "import pywt\n",
        "from skimage.restoration import denoise_wavelet\n",
        "\n",
        "# for quick sketches\n",
        "from matplotlib import pyplot as plt\n",
        "from matplotlib.pyplot import plot, hlines, vlines, semilogy\n",
        "\n",
        "# for professional visualization, publication quality\n",
        "import plotnine as p9\n",
        "from plotnine import ggplot, aes, element_blank\n",
        "\n",
        "# initialization\n",
        "from IPython.core.display import display, HTML\n",
        "display(\n",
        "    HTML(\n",
        "        \"<style>.container { width:80%; transform: translateX(130px); !important; }</style>\"\n",
        "    )\n",
        ")\n",
        "plt.rc(\"figure\", figsize=(20, 20))"
      ],
      "metadata": {
        "colab": {
          "base_uri": "https://localhost:8080/",
          "height": 17
        },
        "id": "IEqtk9JlN72C",
        "outputId": "c31081da-8e9b-4ac7-86fd-c57304ae0908"
      },
      "execution_count": 3,
      "outputs": [
        {
          "output_type": "display_data",
          "data": {
            "text/plain": [
              "<IPython.core.display.HTML object>"
            ],
            "text/html": [
              "<style>.container { width:80%; transform: translateX(130px); !important; }</style>"
            ]
          },
          "metadata": {}
        }
      ]
    },
    {
      "cell_type": "markdown",
      "source": [
        "Pipes are awesome. Let's do more of those."
      ],
      "metadata": {
        "id": "SpsFJIa4ODgK"
      }
    },
    {
      "cell_type": "code",
      "source": [
        "import ast\n",
        "import inspect\n",
        "from itertools import takewhile\n",
        "from textwrap import dedent\n",
        "\n",
        "class _PipeTransformer(ast.NodeTransformer):\n",
        "    def visit_BinOp(self, node):\n",
        "        if not isinstance(node.op, (ast.LShift, ast.RShift)):\n",
        "            return node\n",
        "        if not isinstance(node.right, ast.Call):\n",
        "            return self.visit(\n",
        "                ast.Call(\n",
        "                    func=node.right,\n",
        "                    args=[node.left],\n",
        "                    keywords=[],\n",
        "                    starargs=None,\n",
        "                    kwargs=None,\n",
        "                    lineno=node.right.lineno,\n",
        "                    col_offset=node.right.col_offset,\n",
        "                )\n",
        "            )\n",
        "        node.right.args.insert(0 if isinstance(node.op, ast.RShift) else len(node.right.args), node.left)\n",
        "        return self.visit(node.right)\n",
        "\n",
        "def pipes(func_or_class):\n",
        "    if inspect.isclass(func_or_class):\n",
        "        decorator_frame = inspect.stack()[1]\n",
        "        ctx = decorator_frame[0].f_locals\n",
        "        first_line_number = decorator_frame[2]\n",
        "    else:\n",
        "        ctx = func_or_class.__globals__\n",
        "        first_line_number = func_or_class.__code__.co_firstlineno\n",
        "    source = inspect.getsource(func_or_class)\n",
        "    tree = ast.parse(dedent(source))\n",
        "    ast.increment_lineno(tree, first_line_number - 1)\n",
        "    source_indent = sum(1 for _ in takewhile(str.isspace, source)) + 1\n",
        "    for node in ast.walk(tree):\n",
        "        if hasattr(node, \"col_offset\"):\n",
        "            node.col_offset += source_indent\n",
        "    tree.body[0].decorator_list = [\n",
        "        d\n",
        "        for d in tree.body[0].decorator_list\n",
        "        if isinstance(d, ast.Call) and d.func.id != \"pipes\" or isinstance(d, ast.Name) and d.id != \"pipes\"\n",
        "    ]\n",
        "    tree = _PipeTransformer().visit(tree)\n",
        "    code = compile(tree, filename=(ctx[\"__file__\"] if \"__file__\" in ctx else \"repl\"), mode=\"exec\")\n",
        "    exec(code, ctx)\n",
        "    return ctx[tree.body[0].name]\n",
        "\n",
        "def pipeprint(*args, **kwargs):\n",
        "    print(*args, **kwargs)\n",
        "    return args[0]\n",
        "\n",
        "def convert_to_float(A):\n",
        "    match A.dtype:\n",
        "        case \"int16\":\n",
        "            return A/(2**(16-1)-1)\n",
        "        case \"float64\":\n",
        "            # normalize to [-1, 1]\n",
        "            A = (A - np.min(A)) / (np.max(A) - np.min(A))\n",
        "            A = 2 * A - 1\n",
        "            return A\n",
        "        case _:\n",
        "            raise NotImplementedError"
      ],
      "metadata": {
        "id": "MjaVpU6iOIIC"
      },
      "execution_count": 4,
      "outputs": []
    },
    {
      "cell_type": "markdown",
      "source": [
        "Experiment"
      ],
      "metadata": {
        "id": "bIa25x_zOXWn"
      }
    },
    {
      "cell_type": "code",
      "source": [
        "rate_A, data_A = wavfile.read(\"audiomerge/examples/1/A.wav\")\n",
        "rate_B, data_B = wavfile.read(\"audiomerge/examples/1/B.wav\")\n",
        "rate_C, data_C = wavfile.read(\"audiomerge/examples/1/C.wav\")\n",
        "rate_D, data_D = wavfile.read(\"audiomerge/examples/1/D.wav\")\n",
        "rate_ref, data_ref = wavfile.read(\"audiomerge/examples/1/reference.wav\")\n",
        "\n",
        "data_A = convert_to_float(data_A)\n",
        "data_B = convert_to_float(data_B)\n",
        "data_C = convert_to_float(data_C)\n",
        "data_D = convert_to_float(data_D)\n",
        "data_ref = convert_to_float(data_ref)"
      ],
      "metadata": {
        "id": "NNHsyrmIObsF"
      },
      "execution_count": 5,
      "outputs": []
    }
  ]
}